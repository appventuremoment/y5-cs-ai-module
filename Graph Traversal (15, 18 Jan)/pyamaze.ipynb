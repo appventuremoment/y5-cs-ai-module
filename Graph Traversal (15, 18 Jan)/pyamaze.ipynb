{
 "cells": [
  {
   "cell_type": "code",
   "execution_count": 44,
   "metadata": {},
   "outputs": [],
   "source": [
    "from pyamaze import *\n",
    "\n",
    "m = maze(20, 20)\n",
    "m.CreateMaze(x=10, y=1)\n",
    "\n",
    "a = agent(m, footprints=True)\n",
    "m.enableWASD(a)\n",
    "#a.position = (20, 19)\n",
    "m.tracePath({a:m.path}, delay=100)\n",
    "\n",
    "m.run()"
   ]
  }
 ],
 "metadata": {
  "kernelspec": {
   "display_name": "Python 3",
   "language": "python",
   "name": "python3"
  },
  "language_info": {
   "codemirror_mode": {
    "name": "ipython",
    "version": 3
   },
   "file_extension": ".py",
   "mimetype": "text/x-python",
   "name": "python",
   "nbconvert_exporter": "python",
   "pygments_lexer": "ipython3",
   "version": "3.11.8"
  }
 },
 "nbformat": 4,
 "nbformat_minor": 2
}
