{
 "cells": [
  {
   "cell_type": "markdown",
   "metadata": {},
   "source": [
    "# Data Preprocessing"
   ]
  },
  {
   "cell_type": "code",
   "execution_count": 4,
   "metadata": {},
   "outputs": [
    {
     "data": {
      "text/html": [
       "<div>\n",
       "<style scoped>\n",
       "    .dataframe tbody tr th:only-of-type {\n",
       "        vertical-align: middle;\n",
       "    }\n",
       "\n",
       "    .dataframe tbody tr th {\n",
       "        vertical-align: top;\n",
       "    }\n",
       "\n",
       "    .dataframe thead th {\n",
       "        text-align: right;\n",
       "    }\n",
       "</style>\n",
       "<table border=\"1\" class=\"dataframe\">\n",
       "  <thead>\n",
       "    <tr style=\"text-align: right;\">\n",
       "      <th></th>\n",
       "      <th>blk_no</th>\n",
       "      <th>street</th>\n",
       "      <th>max_floor_lvl</th>\n",
       "      <th>year_completed</th>\n",
       "      <th>residential</th>\n",
       "      <th>commercial</th>\n",
       "      <th>market_hawker</th>\n",
       "      <th>miscellaneous</th>\n",
       "      <th>multistorey_carpark</th>\n",
       "      <th>precinct_pavilion</th>\n",
       "      <th>...</th>\n",
       "      <th>3room_sold</th>\n",
       "      <th>4room_sold</th>\n",
       "      <th>5room_sold</th>\n",
       "      <th>exec_sold</th>\n",
       "      <th>multigen_sold</th>\n",
       "      <th>studio_apartment_sold</th>\n",
       "      <th>1room_rental</th>\n",
       "      <th>2room_rental</th>\n",
       "      <th>3room_rental</th>\n",
       "      <th>other_room_rental</th>\n",
       "    </tr>\n",
       "  </thead>\n",
       "  <tbody>\n",
       "    <tr>\n",
       "      <th>0</th>\n",
       "      <td>1</td>\n",
       "      <td>BEACH RD</td>\n",
       "      <td>16</td>\n",
       "      <td>1970</td>\n",
       "      <td>Y</td>\n",
       "      <td>Y</td>\n",
       "      <td>N</td>\n",
       "      <td>N</td>\n",
       "      <td>N</td>\n",
       "      <td>N</td>\n",
       "      <td>...</td>\n",
       "      <td>138</td>\n",
       "      <td>1</td>\n",
       "      <td>2</td>\n",
       "      <td>0</td>\n",
       "      <td>0</td>\n",
       "      <td>0</td>\n",
       "      <td>0</td>\n",
       "      <td>0</td>\n",
       "      <td>0</td>\n",
       "      <td>0</td>\n",
       "    </tr>\n",
       "    <tr>\n",
       "      <th>1</th>\n",
       "      <td>1</td>\n",
       "      <td>BEDOK STH AVE 1</td>\n",
       "      <td>14</td>\n",
       "      <td>1975</td>\n",
       "      <td>Y</td>\n",
       "      <td>N</td>\n",
       "      <td>N</td>\n",
       "      <td>Y</td>\n",
       "      <td>N</td>\n",
       "      <td>N</td>\n",
       "      <td>...</td>\n",
       "      <td>204</td>\n",
       "      <td>0</td>\n",
       "      <td>2</td>\n",
       "      <td>0</td>\n",
       "      <td>0</td>\n",
       "      <td>0</td>\n",
       "      <td>0</td>\n",
       "      <td>0</td>\n",
       "      <td>0</td>\n",
       "      <td>0</td>\n",
       "    </tr>\n",
       "    <tr>\n",
       "      <th>2</th>\n",
       "      <td>1</td>\n",
       "      <td>CANTONMENT RD</td>\n",
       "      <td>2</td>\n",
       "      <td>2010</td>\n",
       "      <td>N</td>\n",
       "      <td>Y</td>\n",
       "      <td>N</td>\n",
       "      <td>N</td>\n",
       "      <td>N</td>\n",
       "      <td>N</td>\n",
       "      <td>...</td>\n",
       "      <td>0</td>\n",
       "      <td>0</td>\n",
       "      <td>0</td>\n",
       "      <td>0</td>\n",
       "      <td>0</td>\n",
       "      <td>0</td>\n",
       "      <td>0</td>\n",
       "      <td>0</td>\n",
       "      <td>0</td>\n",
       "      <td>0</td>\n",
       "    </tr>\n",
       "    <tr>\n",
       "      <th>3</th>\n",
       "      <td>1</td>\n",
       "      <td>CHAI CHEE RD</td>\n",
       "      <td>15</td>\n",
       "      <td>1982</td>\n",
       "      <td>Y</td>\n",
       "      <td>N</td>\n",
       "      <td>N</td>\n",
       "      <td>N</td>\n",
       "      <td>N</td>\n",
       "      <td>N</td>\n",
       "      <td>...</td>\n",
       "      <td>0</td>\n",
       "      <td>10</td>\n",
       "      <td>92</td>\n",
       "      <td>0</td>\n",
       "      <td>0</td>\n",
       "      <td>0</td>\n",
       "      <td>0</td>\n",
       "      <td>0</td>\n",
       "      <td>0</td>\n",
       "      <td>0</td>\n",
       "    </tr>\n",
       "    <tr>\n",
       "      <th>4</th>\n",
       "      <td>1</td>\n",
       "      <td>CHANGI VILLAGE RD</td>\n",
       "      <td>4</td>\n",
       "      <td>1975</td>\n",
       "      <td>Y</td>\n",
       "      <td>Y</td>\n",
       "      <td>N</td>\n",
       "      <td>N</td>\n",
       "      <td>N</td>\n",
       "      <td>N</td>\n",
       "      <td>...</td>\n",
       "      <td>54</td>\n",
       "      <td>0</td>\n",
       "      <td>1</td>\n",
       "      <td>0</td>\n",
       "      <td>0</td>\n",
       "      <td>0</td>\n",
       "      <td>0</td>\n",
       "      <td>0</td>\n",
       "      <td>0</td>\n",
       "      <td>0</td>\n",
       "    </tr>\n",
       "  </tbody>\n",
       "</table>\n",
       "<p>5 rows × 24 columns</p>\n",
       "</div>"
      ],
      "text/plain": [
       "  blk_no             street  max_floor_lvl  year_completed residential  \\\n",
       "0      1           BEACH RD             16            1970           Y   \n",
       "1      1    BEDOK STH AVE 1             14            1975           Y   \n",
       "2      1      CANTONMENT RD              2            2010           N   \n",
       "3      1       CHAI CHEE RD             15            1982           Y   \n",
       "4      1  CHANGI VILLAGE RD              4            1975           Y   \n",
       "\n",
       "  commercial market_hawker miscellaneous multistorey_carpark  \\\n",
       "0          Y             N             N                   N   \n",
       "1          N             N             Y                   N   \n",
       "2          Y             N             N                   N   \n",
       "3          N             N             N                   N   \n",
       "4          Y             N             N                   N   \n",
       "\n",
       "  precinct_pavilion  ... 3room_sold  4room_sold  5room_sold  exec_sold  \\\n",
       "0                 N  ...        138           1           2          0   \n",
       "1                 N  ...        204           0           2          0   \n",
       "2                 N  ...          0           0           0          0   \n",
       "3                 N  ...          0          10          92          0   \n",
       "4                 N  ...         54           0           1          0   \n",
       "\n",
       "   multigen_sold  studio_apartment_sold  1room_rental  2room_rental  \\\n",
       "0              0                      0             0             0   \n",
       "1              0                      0             0             0   \n",
       "2              0                      0             0             0   \n",
       "3              0                      0             0             0   \n",
       "4              0                      0             0             0   \n",
       "\n",
       "   3room_rental  other_room_rental  \n",
       "0             0                  0  \n",
       "1             0                  0  \n",
       "2             0                  0  \n",
       "3             0                  0  \n",
       "4             0                  0  \n",
       "\n",
       "[5 rows x 24 columns]"
      ]
     },
     "execution_count": 4,
     "metadata": {},
     "output_type": "execute_result"
    }
   ],
   "source": [
    "import pandas\n",
    "loadeddata = pandas.read_csv('HDBPropertyInformation.csv')\n",
    "loadeddata.head()"
   ]
  },
  {
   "cell_type": "code",
   "execution_count": 6,
   "metadata": {},
   "outputs": [
    {
     "data": {
      "text/plain": [
       "blk_no                   False\n",
       "street                   False\n",
       "max_floor_lvl            False\n",
       "year_completed           False\n",
       "residential              False\n",
       "commercial               False\n",
       "market_hawker            False\n",
       "miscellaneous            False\n",
       "multistorey_carpark      False\n",
       "precinct_pavilion        False\n",
       "bldg_contract_town       False\n",
       "total_dwelling_units     False\n",
       "1room_sold               False\n",
       "2room_sold               False\n",
       "3room_sold               False\n",
       "4room_sold               False\n",
       "5room_sold               False\n",
       "exec_sold                False\n",
       "multigen_sold            False\n",
       "studio_apartment_sold    False\n",
       "1room_rental             False\n",
       "2room_rental             False\n",
       "3room_rental             False\n",
       "other_room_rental        False\n",
       "dtype: bool"
      ]
     },
     "execution_count": 6,
     "metadata": {},
     "output_type": "execute_result"
    }
   ],
   "source": [
    "loadeddata.isna().any()"
   ]
  },
  {
   "cell_type": "markdown",
   "metadata": {},
   "source": [
    "# Feature Engineering"
   ]
  },
  {
   "cell_type": "markdown",
   "metadata": {},
   "source": [
    "# Model Selection"
   ]
  },
  {
   "cell_type": "markdown",
   "metadata": {},
   "source": [
    "## Linear Regression"
   ]
  },
  {
   "cell_type": "markdown",
   "metadata": {},
   "source": [
    "## Random Forest"
   ]
  },
  {
   "cell_type": "markdown",
   "metadata": {},
   "source": [
    "# Model Evaluation"
   ]
  },
  {
   "cell_type": "markdown",
   "metadata": {},
   "source": [
    "# Hyperparameter Tuning"
   ]
  },
  {
   "cell_type": "markdown",
   "metadata": {},
   "source": [
    "# Model Interpretation"
   ]
  }
 ],
 "metadata": {
  "kernelspec": {
   "display_name": "Python 3",
   "language": "python",
   "name": "python3"
  },
  "language_info": {
   "codemirror_mode": {
    "name": "ipython",
    "version": 3
   },
   "file_extension": ".py",
   "mimetype": "text/x-python",
   "name": "python",
   "nbconvert_exporter": "python",
   "pygments_lexer": "ipython3",
   "version": "3.11.8"
  }
 },
 "nbformat": 4,
 "nbformat_minor": 2
}
