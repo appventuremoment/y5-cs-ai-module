{
 "cells": [
  {
   "cell_type": "markdown",
   "metadata": {},
   "source": [
    "# Data Preprocessing"
   ]
  },
  {
   "cell_type": "markdown",
   "metadata": {},
   "source": [
    "### Using dataset from https://beta.data.gov.sg/collections/150/view"
   ]
  },
  {
   "cell_type": "code",
   "execution_count": 2,
   "metadata": {},
   "outputs": [
    {
     "name": "stderr",
     "output_type": "stream",
     "text": [
      "C:\\Users\\g0dph\\AppData\\Local\\Temp\\ipykernel_6856\\2414559479.py:1: DeprecationWarning: \n",
      "Pyarrow will become a required dependency of pandas in the next major release of pandas (pandas 3.0),\n",
      "(to allow more performant data types, such as the Arrow string type, and better interoperability with other libraries)\n",
      "but was not found to be installed on your system.\n",
      "If this would cause problems for you,\n",
      "please provide us feedback at https://github.com/pandas-dev/pandas/issues/54466\n",
      "        \n",
      "  import pandas\n"
     ]
    },
    {
     "data": {
      "text/html": [
       "<div>\n",
       "<style scoped>\n",
       "    .dataframe tbody tr th:only-of-type {\n",
       "        vertical-align: middle;\n",
       "    }\n",
       "\n",
       "    .dataframe tbody tr th {\n",
       "        vertical-align: top;\n",
       "    }\n",
       "\n",
       "    .dataframe thead th {\n",
       "        text-align: right;\n",
       "    }\n",
       "</style>\n",
       "<table border=\"1\" class=\"dataframe\">\n",
       "  <thead>\n",
       "    <tr style=\"text-align: right;\">\n",
       "      <th></th>\n",
       "      <th>blk_no</th>\n",
       "      <th>street</th>\n",
       "      <th>max_floor_lvl</th>\n",
       "      <th>year_completed</th>\n",
       "      <th>residential</th>\n",
       "      <th>commercial</th>\n",
       "      <th>market_hawker</th>\n",
       "      <th>miscellaneous</th>\n",
       "      <th>multistorey_carpark</th>\n",
       "      <th>precinct_pavilion</th>\n",
       "      <th>...</th>\n",
       "      <th>3room_sold</th>\n",
       "      <th>4room_sold</th>\n",
       "      <th>5room_sold</th>\n",
       "      <th>exec_sold</th>\n",
       "      <th>multigen_sold</th>\n",
       "      <th>studio_apartment_sold</th>\n",
       "      <th>1room_rental</th>\n",
       "      <th>2room_rental</th>\n",
       "      <th>3room_rental</th>\n",
       "      <th>other_room_rental</th>\n",
       "    </tr>\n",
       "  </thead>\n",
       "  <tbody>\n",
       "    <tr>\n",
       "      <th>0</th>\n",
       "      <td>1</td>\n",
       "      <td>BEACH RD</td>\n",
       "      <td>16</td>\n",
       "      <td>1970</td>\n",
       "      <td>Y</td>\n",
       "      <td>Y</td>\n",
       "      <td>N</td>\n",
       "      <td>N</td>\n",
       "      <td>N</td>\n",
       "      <td>N</td>\n",
       "      <td>...</td>\n",
       "      <td>138</td>\n",
       "      <td>1</td>\n",
       "      <td>2</td>\n",
       "      <td>0</td>\n",
       "      <td>0</td>\n",
       "      <td>0</td>\n",
       "      <td>0</td>\n",
       "      <td>0</td>\n",
       "      <td>0</td>\n",
       "      <td>0</td>\n",
       "    </tr>\n",
       "    <tr>\n",
       "      <th>1</th>\n",
       "      <td>1</td>\n",
       "      <td>BEDOK STH AVE 1</td>\n",
       "      <td>14</td>\n",
       "      <td>1975</td>\n",
       "      <td>Y</td>\n",
       "      <td>N</td>\n",
       "      <td>N</td>\n",
       "      <td>Y</td>\n",
       "      <td>N</td>\n",
       "      <td>N</td>\n",
       "      <td>...</td>\n",
       "      <td>204</td>\n",
       "      <td>0</td>\n",
       "      <td>2</td>\n",
       "      <td>0</td>\n",
       "      <td>0</td>\n",
       "      <td>0</td>\n",
       "      <td>0</td>\n",
       "      <td>0</td>\n",
       "      <td>0</td>\n",
       "      <td>0</td>\n",
       "    </tr>\n",
       "    <tr>\n",
       "      <th>2</th>\n",
       "      <td>1</td>\n",
       "      <td>CANTONMENT RD</td>\n",
       "      <td>2</td>\n",
       "      <td>2010</td>\n",
       "      <td>N</td>\n",
       "      <td>Y</td>\n",
       "      <td>N</td>\n",
       "      <td>N</td>\n",
       "      <td>N</td>\n",
       "      <td>N</td>\n",
       "      <td>...</td>\n",
       "      <td>0</td>\n",
       "      <td>0</td>\n",
       "      <td>0</td>\n",
       "      <td>0</td>\n",
       "      <td>0</td>\n",
       "      <td>0</td>\n",
       "      <td>0</td>\n",
       "      <td>0</td>\n",
       "      <td>0</td>\n",
       "      <td>0</td>\n",
       "    </tr>\n",
       "    <tr>\n",
       "      <th>3</th>\n",
       "      <td>1</td>\n",
       "      <td>CHAI CHEE RD</td>\n",
       "      <td>15</td>\n",
       "      <td>1982</td>\n",
       "      <td>Y</td>\n",
       "      <td>N</td>\n",
       "      <td>N</td>\n",
       "      <td>N</td>\n",
       "      <td>N</td>\n",
       "      <td>N</td>\n",
       "      <td>...</td>\n",
       "      <td>0</td>\n",
       "      <td>10</td>\n",
       "      <td>92</td>\n",
       "      <td>0</td>\n",
       "      <td>0</td>\n",
       "      <td>0</td>\n",
       "      <td>0</td>\n",
       "      <td>0</td>\n",
       "      <td>0</td>\n",
       "      <td>0</td>\n",
       "    </tr>\n",
       "    <tr>\n",
       "      <th>4</th>\n",
       "      <td>1</td>\n",
       "      <td>CHANGI VILLAGE RD</td>\n",
       "      <td>4</td>\n",
       "      <td>1975</td>\n",
       "      <td>Y</td>\n",
       "      <td>Y</td>\n",
       "      <td>N</td>\n",
       "      <td>N</td>\n",
       "      <td>N</td>\n",
       "      <td>N</td>\n",
       "      <td>...</td>\n",
       "      <td>54</td>\n",
       "      <td>0</td>\n",
       "      <td>1</td>\n",
       "      <td>0</td>\n",
       "      <td>0</td>\n",
       "      <td>0</td>\n",
       "      <td>0</td>\n",
       "      <td>0</td>\n",
       "      <td>0</td>\n",
       "      <td>0</td>\n",
       "    </tr>\n",
       "  </tbody>\n",
       "</table>\n",
       "<p>5 rows × 24 columns</p>\n",
       "</div>"
      ],
      "text/plain": [
       "  blk_no             street  max_floor_lvl  year_completed residential  \\\n",
       "0      1           BEACH RD             16            1970           Y   \n",
       "1      1    BEDOK STH AVE 1             14            1975           Y   \n",
       "2      1      CANTONMENT RD              2            2010           N   \n",
       "3      1       CHAI CHEE RD             15            1982           Y   \n",
       "4      1  CHANGI VILLAGE RD              4            1975           Y   \n",
       "\n",
       "  commercial market_hawker miscellaneous multistorey_carpark  \\\n",
       "0          Y             N             N                   N   \n",
       "1          N             N             Y                   N   \n",
       "2          Y             N             N                   N   \n",
       "3          N             N             N                   N   \n",
       "4          Y             N             N                   N   \n",
       "\n",
       "  precinct_pavilion  ... 3room_sold  4room_sold  5room_sold  exec_sold  \\\n",
       "0                 N  ...        138           1           2          0   \n",
       "1                 N  ...        204           0           2          0   \n",
       "2                 N  ...          0           0           0          0   \n",
       "3                 N  ...          0          10          92          0   \n",
       "4                 N  ...         54           0           1          0   \n",
       "\n",
       "   multigen_sold  studio_apartment_sold  1room_rental  2room_rental  \\\n",
       "0              0                      0             0             0   \n",
       "1              0                      0             0             0   \n",
       "2              0                      0             0             0   \n",
       "3              0                      0             0             0   \n",
       "4              0                      0             0             0   \n",
       "\n",
       "   3room_rental  other_room_rental  \n",
       "0             0                  0  \n",
       "1             0                  0  \n",
       "2             0                  0  \n",
       "3             0                  0  \n",
       "4             0                  0  \n",
       "\n",
       "[5 rows x 24 columns]"
      ]
     },
     "execution_count": 2,
     "metadata": {},
     "output_type": "execute_result"
    }
   ],
   "source": [
    "import pandas\n",
    "loadeddata = pandas.read_csv('HDBPropertyInformation.csv')\n",
    "loadeddata.head()"
   ]
  },
  {
   "cell_type": "markdown",
   "metadata": {},
   "source": [
    "### First, check for any empty values"
   ]
  },
  {
   "cell_type": "code",
   "execution_count": 3,
   "metadata": {},
   "outputs": [
    {
     "data": {
      "text/plain": [
       "blk_no                   False\n",
       "street                   False\n",
       "max_floor_lvl            False\n",
       "year_completed           False\n",
       "residential              False\n",
       "commercial               False\n",
       "market_hawker            False\n",
       "miscellaneous            False\n",
       "multistorey_carpark      False\n",
       "precinct_pavilion        False\n",
       "bldg_contract_town       False\n",
       "total_dwelling_units     False\n",
       "1room_sold               False\n",
       "2room_sold               False\n",
       "3room_sold               False\n",
       "4room_sold               False\n",
       "5room_sold               False\n",
       "exec_sold                False\n",
       "multigen_sold            False\n",
       "studio_apartment_sold    False\n",
       "1room_rental             False\n",
       "2room_rental             False\n",
       "3room_rental             False\n",
       "other_room_rental        False\n",
       "dtype: bool"
      ]
     },
     "execution_count": 3,
     "metadata": {},
     "output_type": "execute_result"
    }
   ],
   "source": [
    "loadeddata.isna().any()"
   ]
  },
  {
   "cell_type": "markdown",
   "metadata": {},
   "source": [
    "### Next, check for any values that is not possible"
   ]
  },
  {
   "cell_type": "code",
   "execution_count": 4,
   "metadata": {},
   "outputs": [
    {
     "data": {
      "text/plain": [
       "blk_no                        9C\n",
       "street                   ZION RD\n",
       "max_floor_lvl                 50\n",
       "year_completed              2023\n",
       "residential                    Y\n",
       "commercial                     Y\n",
       "market_hawker                  Y\n",
       "miscellaneous                  Y\n",
       "multistorey_carpark            Y\n",
       "precinct_pavilion              Y\n",
       "bldg_contract_town            YS\n",
       "total_dwelling_units         584\n",
       "1room_sold                   253\n",
       "2room_sold                   234\n",
       "3room_sold                   528\n",
       "4room_sold                   316\n",
       "5room_sold                   164\n",
       "exec_sold                    135\n",
       "multigen_sold                 66\n",
       "studio_apartment_sold        194\n",
       "1room_rental                 520\n",
       "2room_rental                 452\n",
       "3room_rental                 114\n",
       "other_room_rental             32\n",
       "dtype: object"
      ]
     },
     "execution_count": 4,
     "metadata": {},
     "output_type": "execute_result"
    }
   ],
   "source": [
    "loadeddata.max()"
   ]
  },
  {
   "cell_type": "code",
   "execution_count": 5,
   "metadata": {},
   "outputs": [
    {
     "data": {
      "text/plain": [
       "blk_no                              1\n",
       "street                   ADMIRALTY DR\n",
       "max_floor_lvl                       1\n",
       "year_completed                   1937\n",
       "residential                         N\n",
       "commercial                          N\n",
       "market_hawker                       N\n",
       "miscellaneous                       N\n",
       "multistorey_carpark                 N\n",
       "precinct_pavilion                   N\n",
       "bldg_contract_town                AMK\n",
       "total_dwelling_units                0\n",
       "1room_sold                          0\n",
       "2room_sold                          0\n",
       "3room_sold                          0\n",
       "4room_sold                          0\n",
       "5room_sold                          0\n",
       "exec_sold                           0\n",
       "multigen_sold                       0\n",
       "studio_apartment_sold               0\n",
       "1room_rental                        0\n",
       "2room_rental                        0\n",
       "3room_rental                        0\n",
       "other_room_rental                   0\n",
       "dtype: object"
      ]
     },
     "execution_count": 5,
     "metadata": {},
     "output_type": "execute_result"
    }
   ],
   "source": [
    "loadeddata.min()"
   ]
  },
  {
   "cell_type": "markdown",
   "metadata": {},
   "source": [
    "# Feature Engineering"
   ]
  },
  {
   "cell_type": "code",
   "execution_count": 10,
   "metadata": {},
   "outputs": [
    {
     "data": {
      "text/html": [
       "<div>\n",
       "<style scoped>\n",
       "    .dataframe tbody tr th:only-of-type {\n",
       "        vertical-align: middle;\n",
       "    }\n",
       "\n",
       "    .dataframe tbody tr th {\n",
       "        vertical-align: top;\n",
       "    }\n",
       "\n",
       "    .dataframe thead th {\n",
       "        text-align: right;\n",
       "    }\n",
       "</style>\n",
       "<table border=\"1\" class=\"dataframe\">\n",
       "  <thead>\n",
       "    <tr style=\"text-align: right;\">\n",
       "      <th></th>\n",
       "      <th>max_floor_lvl</th>\n",
       "      <th>year_completed</th>\n",
       "      <th>total_dwelling_units</th>\n",
       "      <th>3room_sold</th>\n",
       "      <th>4room_sold</th>\n",
       "      <th>5room_sold</th>\n",
       "    </tr>\n",
       "  </thead>\n",
       "  <tbody>\n",
       "    <tr>\n",
       "      <th>0</th>\n",
       "      <td>16</td>\n",
       "      <td>1970</td>\n",
       "      <td>142</td>\n",
       "      <td>138</td>\n",
       "      <td>1</td>\n",
       "      <td>2</td>\n",
       "    </tr>\n",
       "    <tr>\n",
       "      <th>1</th>\n",
       "      <td>14</td>\n",
       "      <td>1975</td>\n",
       "      <td>206</td>\n",
       "      <td>204</td>\n",
       "      <td>0</td>\n",
       "      <td>2</td>\n",
       "    </tr>\n",
       "    <tr>\n",
       "      <th>2</th>\n",
       "      <td>2</td>\n",
       "      <td>2010</td>\n",
       "      <td>0</td>\n",
       "      <td>0</td>\n",
       "      <td>0</td>\n",
       "      <td>0</td>\n",
       "    </tr>\n",
       "    <tr>\n",
       "      <th>3</th>\n",
       "      <td>15</td>\n",
       "      <td>1982</td>\n",
       "      <td>102</td>\n",
       "      <td>0</td>\n",
       "      <td>10</td>\n",
       "      <td>92</td>\n",
       "    </tr>\n",
       "    <tr>\n",
       "      <th>4</th>\n",
       "      <td>4</td>\n",
       "      <td>1975</td>\n",
       "      <td>55</td>\n",
       "      <td>54</td>\n",
       "      <td>0</td>\n",
       "      <td>1</td>\n",
       "    </tr>\n",
       "  </tbody>\n",
       "</table>\n",
       "</div>"
      ],
      "text/plain": [
       "   max_floor_lvl  year_completed  total_dwelling_units  3room_sold  \\\n",
       "0             16            1970                   142         138   \n",
       "1             14            1975                   206         204   \n",
       "2              2            2010                     0           0   \n",
       "3             15            1982                   102           0   \n",
       "4              4            1975                    55          54   \n",
       "\n",
       "   4room_sold  5room_sold  \n",
       "0           1           2  \n",
       "1           0           2  \n",
       "2           0           0  \n",
       "3          10          92  \n",
       "4           0           1  "
      ]
     },
     "execution_count": 10,
     "metadata": {},
     "output_type": "execute_result"
    }
   ],
   "source": [
    "data = loadeddata[['max_floor_lvl', 'year_completed', 'total_dwelling_units', '3room_sold', '4room_sold', '5room_sold']]\n",
    "data.head()"
   ]
  },
  {
   "cell_type": "markdown",
   "metadata": {},
   "source": [
    "# Model Selection"
   ]
  },
  {
   "cell_type": "markdown",
   "metadata": {},
   "source": [
    "https://scikit-learn.org/stable/modules/generated/sklearn.linear_model.LinearRegression.html,\n",
    "https://scikit-learn.org/stable/modules/generated/sklearn.ensemble.RandomForestRegressor.html"
   ]
  },
  {
   "cell_type": "markdown",
   "metadata": {},
   "source": [
    "## Linear Regression"
   ]
  },
  {
   "cell_type": "markdown",
   "metadata": {},
   "source": [
    "## Random Forest"
   ]
  },
  {
   "cell_type": "markdown",
   "metadata": {},
   "source": [
    "max depth 30"
   ]
  },
  {
   "cell_type": "markdown",
   "metadata": {},
   "source": [
    "# Model Evaluation"
   ]
  },
  {
   "cell_type": "markdown",
   "metadata": {},
   "source": [
    "# Hyperparameter Tuning"
   ]
  },
  {
   "cell_type": "markdown",
   "metadata": {},
   "source": [
    "# Model Interpretation"
   ]
  }
 ],
 "metadata": {
  "kernelspec": {
   "display_name": "Python 3",
   "language": "python",
   "name": "python3"
  },
  "language_info": {
   "codemirror_mode": {
    "name": "ipython",
    "version": 3
   },
   "file_extension": ".py",
   "mimetype": "text/x-python",
   "name": "python",
   "nbconvert_exporter": "python",
   "pygments_lexer": "ipython3",
   "version": "3.11.8"
  }
 },
 "nbformat": 4,
 "nbformat_minor": 2
}
