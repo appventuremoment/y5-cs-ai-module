{
 "cells": [
  {
   "cell_type": "code",
   "execution_count": 155,
   "metadata": {},
   "outputs": [
    {
     "name": "stdout",
     "output_type": "stream",
     "text": [
      "2.15.0\n"
     ]
    }
   ],
   "source": [
    "import tensorflow as tf\n",
    "print(tf.__version__)"
   ]
  },
  {
   "cell_type": "markdown",
   "metadata": {},
   "source": [
    "# Problem Statement"
   ]
  },
  {
   "cell_type": "markdown",
   "metadata": {},
   "source": [
    "# Data Preprocessing"
   ]
  },
  {
   "cell_type": "code",
   "execution_count": 156,
   "metadata": {},
   "outputs": [
    {
     "name": "stdout",
     "output_type": "stream",
     "text": [
      "Found 9999 files belonging to 10 classes.\n",
      "Found 2000 files belonging to 10 classes.\n"
     ]
    }
   ],
   "source": [
    "import tensorflow as tf\n",
    "from tensorflow import keras\n",
    "\n",
    "train = tf.keras.utils.image_dataset_from_directory('CNN Data/train', labels = 'inferred')\n",
    "val = tf.keras.utils.image_dataset_from_directory('CNN Data/val', labels = 'inferred')"
   ]
  },
  {
   "cell_type": "markdown",
   "metadata": {},
   "source": [
    "# Deep Learning Model: CNN"
   ]
  },
  {
   "cell_type": "code",
   "execution_count": 157,
   "metadata": {},
   "outputs": [],
   "source": [
    "types = ['Amphibia', 'Animalia', 'Arachnida', 'Aves', 'Fungi', 'Insecta', 'Mammalia', 'Mollusca', 'Plantae', 'Reptilia']"
   ]
  },
  {
   "cell_type": "code",
   "execution_count": 158,
   "metadata": {},
   "outputs": [],
   "source": [
    "model = tf.keras.models.Sequential([\n",
    "    tf.keras.layers.Rescaling(1./255),\n",
    "    tf.keras.layers.RandomFlip(\"horizontal_and_vertical\"),\n",
    "    tf.keras.layers.RandomRotation(0.2),\n",
    "\n",
    "    tf.keras.layers.Conv2D(16, 3, padding = 'same', activation = 'relu'),\n",
    "    tf.keras.layers.MaxPooling2D(),\n",
    "    tf.keras.layers.Conv2D(32, 3, padding = 'same', activation = 'relu'),\n",
    "    tf.keras.layers.MaxPooling2D(),\n",
    "    tf.keras.layers.Conv2D(64, 3, padding = 'same', activation = 'relu'),\n",
    "    tf.keras.layers.MaxPooling2D(),\n",
    "\n",
    "\n",
    "    tf.keras.layers.Dropout(0.5),\n",
    "    tf.keras.layers.Flatten(),\n",
    "    \n",
    "    #tf.keras.layers.Dense(512, activation=tf.nn.relu),\n",
    "    #tf.keras.layers.Dense(256, activation=tf.nn.relu),\n",
    "    tf.keras.layers.Dense(128, activation=tf.nn.relu),\n",
    "    tf.keras.layers.Dense(10)#, activation=tf.nn.softmax)\n",
    "])"
   ]
  },
  {
   "cell_type": "code",
   "execution_count": 159,
   "metadata": {},
   "outputs": [],
   "source": [
    "class myCallback(tf.keras.callbacks.Callback):\n",
    "  def on_epoch_end(self, epoch, logs={}):\n",
    "    if(logs.get('val_accuracy') > 0.75):\n",
    "      print(\"Cancelling training.\")\n",
    "      self.model.stop_training = True\n",
    "\n",
    "callbacks = myCallback()"
   ]
  },
  {
   "cell_type": "code",
   "execution_count": 160,
   "metadata": {},
   "outputs": [],
   "source": [
    "model.compile(optimizer=tf.optimizers.Adam(),\n",
    "              loss=tf.keras.losses.SparseCategoricalCrossentropy(from_logits=True),\n",
    "              metrics=['accuracy'])"
   ]
  },
  {
   "cell_type": "code",
   "execution_count": 161,
   "metadata": {},
   "outputs": [
    {
     "name": "stdout",
     "output_type": "stream",
     "text": [
      "Epoch 1/60\n"
     ]
    },
    {
     "name": "stdout",
     "output_type": "stream",
     "text": [
      "313/313 [==============================] - 30s 95ms/step - loss: 2.1712 - accuracy: 0.2140 - val_loss: 2.0479 - val_accuracy: 0.2725\n",
      "Epoch 2/60\n",
      "313/313 [==============================] - 29s 94ms/step - loss: 2.0273 - accuracy: 0.2752 - val_loss: 2.0086 - val_accuracy: 0.2995\n",
      "Epoch 3/60\n",
      "313/313 [==============================] - 29s 94ms/step - loss: 1.9814 - accuracy: 0.2965 - val_loss: 1.9508 - val_accuracy: 0.3160\n",
      "Epoch 4/60\n",
      "313/313 [==============================] - 29s 93ms/step - loss: 1.9461 - accuracy: 0.3027 - val_loss: 1.9435 - val_accuracy: 0.3120\n",
      "Epoch 5/60\n",
      "313/313 [==============================] - 29s 94ms/step - loss: 1.9275 - accuracy: 0.3155 - val_loss: 1.9037 - val_accuracy: 0.3220\n",
      "Epoch 6/60\n",
      "313/313 [==============================] - 29s 94ms/step - loss: 1.8973 - accuracy: 0.3283 - val_loss: 1.9158 - val_accuracy: 0.3315\n",
      "Epoch 7/60\n",
      "313/313 [==============================] - 30s 95ms/step - loss: 1.8833 - accuracy: 0.3289 - val_loss: 1.9419 - val_accuracy: 0.3320\n",
      "Epoch 8/60\n",
      "313/313 [==============================] - 30s 95ms/step - loss: 1.8694 - accuracy: 0.3394 - val_loss: 1.8708 - val_accuracy: 0.3415\n",
      "Epoch 9/60\n",
      "313/313 [==============================] - 29s 94ms/step - loss: 1.8399 - accuracy: 0.3445 - val_loss: 1.8899 - val_accuracy: 0.3295\n",
      "Epoch 10/60\n",
      "313/313 [==============================] - 30s 94ms/step - loss: 1.8456 - accuracy: 0.3414 - val_loss: 1.8765 - val_accuracy: 0.3450\n",
      "Epoch 11/60\n",
      "313/313 [==============================] - 30s 95ms/step - loss: 1.8129 - accuracy: 0.3598 - val_loss: 1.8562 - val_accuracy: 0.3500\n",
      "Epoch 12/60\n",
      "313/313 [==============================] - 30s 95ms/step - loss: 1.7986 - accuracy: 0.3702 - val_loss: 1.8416 - val_accuracy: 0.3560\n",
      "Epoch 13/60\n",
      "313/313 [==============================] - 30s 94ms/step - loss: 1.7912 - accuracy: 0.3644 - val_loss: 1.8510 - val_accuracy: 0.3570\n",
      "Epoch 14/60\n",
      "313/313 [==============================] - 29s 94ms/step - loss: 1.7652 - accuracy: 0.3772 - val_loss: 1.8132 - val_accuracy: 0.3615\n",
      "Epoch 15/60\n",
      "313/313 [==============================] - 29s 94ms/step - loss: 1.7578 - accuracy: 0.3779 - val_loss: 1.8213 - val_accuracy: 0.3670\n",
      "Epoch 16/60\n",
      "313/313 [==============================] - 29s 94ms/step - loss: 1.7556 - accuracy: 0.3842 - val_loss: 1.8083 - val_accuracy: 0.3615\n",
      "Epoch 17/60\n",
      "313/313 [==============================] - 29s 94ms/step - loss: 1.7298 - accuracy: 0.3933 - val_loss: 1.8028 - val_accuracy: 0.3560\n",
      "Epoch 18/60\n",
      "313/313 [==============================] - 29s 94ms/step - loss: 1.7263 - accuracy: 0.3872 - val_loss: 1.7632 - val_accuracy: 0.3835\n",
      "Epoch 19/60\n",
      "313/313 [==============================] - 29s 94ms/step - loss: 1.7056 - accuracy: 0.3965 - val_loss: 1.7769 - val_accuracy: 0.3760\n",
      "Epoch 20/60\n",
      "313/313 [==============================] - 29s 93ms/step - loss: 1.6999 - accuracy: 0.4043 - val_loss: 1.8210 - val_accuracy: 0.3700\n",
      "Epoch 21/60\n",
      "313/313 [==============================] - 29s 94ms/step - loss: 1.6908 - accuracy: 0.4046 - val_loss: 1.7790 - val_accuracy: 0.3950\n",
      "Epoch 22/60\n",
      "313/313 [==============================] - 29s 94ms/step - loss: 1.6757 - accuracy: 0.4098 - val_loss: 1.8027 - val_accuracy: 0.3825\n",
      "Epoch 23/60\n",
      "313/313 [==============================] - 30s 94ms/step - loss: 1.6635 - accuracy: 0.4140 - val_loss: 1.7951 - val_accuracy: 0.4005\n",
      "Epoch 24/60\n",
      "313/313 [==============================] - 29s 93ms/step - loss: 1.6620 - accuracy: 0.4199 - val_loss: 1.7725 - val_accuracy: 0.3935\n",
      "Epoch 25/60\n",
      "313/313 [==============================] - 29s 93ms/step - loss: 1.6453 - accuracy: 0.4174 - val_loss: 1.7509 - val_accuracy: 0.3875\n",
      "Epoch 26/60\n",
      "313/313 [==============================] - 30s 94ms/step - loss: 1.6419 - accuracy: 0.4213 - val_loss: 1.7716 - val_accuracy: 0.3925\n",
      "Epoch 27/60\n",
      "313/313 [==============================] - 30s 94ms/step - loss: 1.6250 - accuracy: 0.4294 - val_loss: 1.7989 - val_accuracy: 0.3915\n",
      "Epoch 28/60\n",
      "313/313 [==============================] - 30s 94ms/step - loss: 1.6341 - accuracy: 0.4276 - val_loss: 1.8181 - val_accuracy: 0.3950\n",
      "Epoch 29/60\n",
      "313/313 [==============================] - 30s 95ms/step - loss: 1.6116 - accuracy: 0.4318 - val_loss: 1.7575 - val_accuracy: 0.4170\n",
      "Epoch 30/60\n",
      "313/313 [==============================] - 30s 95ms/step - loss: 1.6081 - accuracy: 0.4375 - val_loss: 1.7788 - val_accuracy: 0.4100\n",
      "Epoch 31/60\n",
      "313/313 [==============================] - 30s 95ms/step - loss: 1.5962 - accuracy: 0.4403 - val_loss: 1.7782 - val_accuracy: 0.3925\n",
      "Epoch 32/60\n",
      "313/313 [==============================] - 30s 95ms/step - loss: 1.5808 - accuracy: 0.4432 - val_loss: 1.7921 - val_accuracy: 0.3985\n",
      "Epoch 33/60\n",
      "313/313 [==============================] - 30s 95ms/step - loss: 1.5766 - accuracy: 0.4427 - val_loss: 1.7442 - val_accuracy: 0.4160\n",
      "Epoch 34/60\n",
      "313/313 [==============================] - 30s 95ms/step - loss: 1.5665 - accuracy: 0.4479 - val_loss: 1.7663 - val_accuracy: 0.4015\n",
      "Epoch 35/60\n",
      "313/313 [==============================] - 30s 94ms/step - loss: 1.5629 - accuracy: 0.4468 - val_loss: 1.7896 - val_accuracy: 0.4050\n",
      "Epoch 36/60\n",
      "313/313 [==============================] - 30s 95ms/step - loss: 1.5563 - accuracy: 0.4553 - val_loss: 1.7789 - val_accuracy: 0.4040\n",
      "Epoch 37/60\n",
      "313/313 [==============================] - 30s 95ms/step - loss: 1.5457 - accuracy: 0.4509 - val_loss: 1.7905 - val_accuracy: 0.3980\n",
      "Epoch 38/60\n",
      "313/313 [==============================] - 30s 95ms/step - loss: 1.5467 - accuracy: 0.4524 - val_loss: 1.7843 - val_accuracy: 0.4055\n",
      "Epoch 39/60\n",
      "313/313 [==============================] - 30s 95ms/step - loss: 1.5407 - accuracy: 0.4562 - val_loss: 1.7557 - val_accuracy: 0.4055\n",
      "Epoch 40/60\n",
      "313/313 [==============================] - 30s 95ms/step - loss: 1.5204 - accuracy: 0.4681 - val_loss: 1.7830 - val_accuracy: 0.4005\n",
      "Epoch 41/60\n",
      "313/313 [==============================] - 29s 94ms/step - loss: 1.5272 - accuracy: 0.4591 - val_loss: 1.7788 - val_accuracy: 0.4125\n",
      "Epoch 42/60\n",
      "313/313 [==============================] - 29s 94ms/step - loss: 1.5179 - accuracy: 0.4631 - val_loss: 1.7550 - val_accuracy: 0.4095\n",
      "Epoch 43/60\n",
      "313/313 [==============================] - 30s 95ms/step - loss: 1.5084 - accuracy: 0.4671 - val_loss: 1.7261 - val_accuracy: 0.4275\n",
      "Epoch 44/60\n",
      "313/313 [==============================] - 29s 94ms/step - loss: 1.5030 - accuracy: 0.4705 - val_loss: 1.8283 - val_accuracy: 0.3930\n",
      "Epoch 45/60\n",
      "313/313 [==============================] - 29s 94ms/step - loss: 1.4950 - accuracy: 0.4737 - val_loss: 1.7807 - val_accuracy: 0.4115\n",
      "Epoch 46/60\n",
      "313/313 [==============================] - 29s 93ms/step - loss: 1.4936 - accuracy: 0.4741 - val_loss: 1.8260 - val_accuracy: 0.4075\n",
      "Epoch 47/60\n",
      "313/313 [==============================] - 29s 93ms/step - loss: 1.4850 - accuracy: 0.4771 - val_loss: 1.8308 - val_accuracy: 0.4130\n",
      "Epoch 48/60\n",
      "313/313 [==============================] - 29s 93ms/step - loss: 1.4835 - accuracy: 0.4782 - val_loss: 1.8553 - val_accuracy: 0.4005\n",
      "Epoch 49/60\n",
      "313/313 [==============================] - 29s 93ms/step - loss: 1.4687 - accuracy: 0.4820 - val_loss: 1.7618 - val_accuracy: 0.4115\n",
      "Epoch 50/60\n",
      "313/313 [==============================] - 29s 93ms/step - loss: 1.4537 - accuracy: 0.4794 - val_loss: 1.7981 - val_accuracy: 0.4155\n",
      "Epoch 51/60\n",
      "313/313 [==============================] - 29s 94ms/step - loss: 1.4648 - accuracy: 0.4886 - val_loss: 1.7926 - val_accuracy: 0.4090\n",
      "Epoch 52/60\n",
      "313/313 [==============================] - 29s 93ms/step - loss: 1.4625 - accuracy: 0.4862 - val_loss: 1.8215 - val_accuracy: 0.4140\n",
      "Epoch 53/60\n",
      "313/313 [==============================] - 29s 94ms/step - loss: 1.4581 - accuracy: 0.4882 - val_loss: 1.8168 - val_accuracy: 0.4115\n",
      "Epoch 54/60\n",
      "313/313 [==============================] - 29s 93ms/step - loss: 1.4335 - accuracy: 0.4981 - val_loss: 1.7965 - val_accuracy: 0.4140\n",
      "Epoch 55/60\n",
      "313/313 [==============================] - 29s 93ms/step - loss: 1.4343 - accuracy: 0.4947 - val_loss: 1.8197 - val_accuracy: 0.4030\n",
      "Epoch 56/60\n",
      "313/313 [==============================] - 29s 93ms/step - loss: 1.4316 - accuracy: 0.4991 - val_loss: 1.7541 - val_accuracy: 0.4155\n",
      "Epoch 57/60\n",
      "313/313 [==============================] - 29s 93ms/step - loss: 1.4257 - accuracy: 0.4945 - val_loss: 1.8077 - val_accuracy: 0.4140\n",
      "Epoch 58/60\n",
      "313/313 [==============================] - 29s 94ms/step - loss: 1.4086 - accuracy: 0.5067 - val_loss: 1.7463 - val_accuracy: 0.4275\n",
      "Epoch 59/60\n",
      "313/313 [==============================] - 29s 94ms/step - loss: 1.3988 - accuracy: 0.5025 - val_loss: 1.7972 - val_accuracy: 0.4185\n",
      "Epoch 60/60\n",
      "313/313 [==============================] - 29s 94ms/step - loss: 1.4177 - accuracy: 0.5010 - val_loss: 2.0659 - val_accuracy: 0.3910\n"
     ]
    },
    {
     "data": {
      "text/plain": [
       "<keras.src.callbacks.History at 0x205ef093890>"
      ]
     },
     "execution_count": 161,
     "metadata": {},
     "output_type": "execute_result"
    }
   ],
   "source": [
    "model.fit(train, validation_data=val, epochs=60, callbacks=[callbacks])"
   ]
  },
  {
   "cell_type": "markdown",
   "metadata": {},
   "source": [
    "# Evaluation of Model"
   ]
  },
  {
   "cell_type": "code",
   "execution_count": 162,
   "metadata": {},
   "outputs": [
    {
     "name": "stdout",
     "output_type": "stream",
     "text": [
      "63/63 [==============================] - 2s 22ms/step - loss: 2.0659 - accuracy: 0.3910\n"
     ]
    },
    {
     "data": {
      "text/plain": [
       "[2.065906524658203, 0.39100000262260437]"
      ]
     },
     "execution_count": 162,
     "metadata": {},
     "output_type": "execute_result"
    }
   ],
   "source": [
    "model.evaluate(val)"
   ]
  },
  {
   "cell_type": "markdown",
   "metadata": {},
   "source": [
    "# Hyperparameter Tuning"
   ]
  }
 ],
 "metadata": {
  "kernelspec": {
   "display_name": "Python 3",
   "language": "python",
   "name": "python3"
  },
  "language_info": {
   "codemirror_mode": {
    "name": "ipython",
    "version": 3
   },
   "file_extension": ".py",
   "mimetype": "text/x-python",
   "name": "python",
   "nbconvert_exporter": "python",
   "pygments_lexer": "ipython3",
   "version": "3.11.8"
  }
 },
 "nbformat": 4,
 "nbformat_minor": 2
}
